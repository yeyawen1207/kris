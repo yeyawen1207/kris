{
 "cells": [
  {
   "cell_type": "code",
   "execution_count": null,
   "metadata": {},
   "outputs": [],
   "source": [
    "#导入数据\n",
    "import pandas as pd\n",
    "import pymysql\n",
    "import numpy as np\n",
    "\n",
    "def conn_sql():\n",
    "    conn = pymysql.connect(\n",
    "                        host='localhost',\n",
    "                        port=3306,\n",
    "                        user='root',\n",
    "                        passwd='941207',\n",
    "                        db='yeyw_db',\n",
    "                        use_unicode=True,\n",
    "                        charset='utf8',\n",
    "                        )\n",
    "    sql_cmd = \"SELECT * FROM commission_channel_info_group where sett_month = '201908'\"\n",
    "    data = pd.read_sql(sql_cmd, conn)\n",
    "    return data\n",
    "    \n",
    "data = conn_sql()\n"
   ]
  },
  {
   "cell_type": "code",
   "execution_count": null,
   "metadata": {
    "scrolled": true
   },
   "outputs": [],
   "source": [
    "#观察数据基本信息\n",
    "data = data[['object_id', 'sum_money_ratio', 'arpu_ratio', 'star_level', \n",
    "             'innet_user', 'keep_card_user', 'dmrn_mark', 'nonefee_user', 'lowfee_user', 'month_off_user','old_user_num',\n",
    "             'batch_open_num', 'err_time_busi', 'open_acct_num','org_user_numm', 'dkm_busi_ratio',\n",
    "             'same_money_ratio', 'recount_user', 'recount_fee', 'zd_yw_jc_ratio', 'zd_yw_lc_ratio']]\n",
    "\n",
    "# print(data.head(5))\n",
    "# print(data.shape)\n",
    "print(data.describe())"
   ]
  },
  {
   "cell_type": "code",
   "execution_count": null,
   "metadata": {},
   "outputs": [],
   "source": [
    "#是否有空值\n",
    "# print(data.isnull().any())\n",
    "# print(data.isna().sum())\n",
    "\n",
    "#处理缺失值\n",
    "data.loc[data.org_channel_type == '直销渠道', 'star_level'] = '7'\n",
    "data.loc[data.star_level == '', 'star_level'] = np.NaN\n",
    "\n",
    "data['star_level'] = data['star_level'].fillna(method='ffill')"
   ]
  },
  {
   "cell_type": "code",
   "execution_count": null,
   "metadata": {},
   "outputs": [],
   "source": [
    "data = data[['object_id', 'eparchy_code', 'city_code', 'sum_money_ratio', 'arpu_ratio', 'org_channel_code','star_level', \n",
    "             'innet_user', 'keep_card_user', 'dmrn_mark', 'nonefee_user', 'lowfee_user', 'month_off_user','old_user_num',\n",
    "             'batch_open_num', 'err_time_busi', 'open_acct_num','org_user_numm', 'dkm_hb', 'dkm_busi_ratio', 'same_money',\n",
    "             'same_money_ratio', 'recount_flag', 'recount_user', 'recount_fee', 'zd_yw_jc', 'zd_yw_jc_ratio', 'zd_yw_lc', \n",
    "             'zd_yw_lc_ratio']]"
   ]
  },
  {
   "cell_type": "code",
   "execution_count": null,
   "metadata": {
    "scrolled": true
   },
   "outputs": [],
   "source": [
    "import matplotlib.pyplot as plt #导入图像库\n",
    "\n",
    "pltData = data[['dkm_busi_ratio', 'same_money_ratio', 'recount_fee']]\n",
    "\n",
    "\n",
    "\n",
    "\n",
    "plt.rcParams['font.sans-serif'] = ['SimHei'] #用来正常显示中文标签\n",
    "plt.rcParams['axes.unicode_minus'] = False #用来正常显示负号\n",
    "plt.figure(1, figsize=(13, 26))#可设定图像大小\n",
    "#plt.figure() #建立图像\n",
    "p = pltData.boxplot(return_type='dict') #画箱线图，直接使用DataFrame的方法.代码到这为止,就已经可以显示带有异常值的箱型图了,但为了标注出异常值的数值,还需要以下代码进行标注.\n",
    "#for i in range(0,4):\n",
    "# x = p['fliers'][0].get_xdata() # 'flies'即为异常值的标签.[0]是用来标注第1位歌手的异常值数值,同理[i]标注第i+1位歌手的异常值.\n",
    "# y = p['fliers'][0].get_ydata()\n",
    "# y.sort() #从小到大排序\n",
    "\n",
    "# for i in range(len(x)): \n",
    "#   if i>0:\n",
    "#     plt.annotate(y[i], xy = (x[i],y[i]), xytext=(x[i]+0.05 -0.8/(y[i]-y[i-1]),y[i]))\n",
    "#   else:\n",
    "#     plt.annotate(y[i], xy = (x[i],y[i]), xytext=(x[i]+0.08,y[i]))\n",
    "\n",
    "plt.show() #展示箱线图\n"
   ]
  },
  {
   "cell_type": "code",
   "execution_count": null,
   "metadata": {},
   "outputs": [],
   "source": [
    "#初步绘制正态分布图\n",
    "import numpy as np\n",
    "import matplotlib.pyplot as plt\n",
    "\n",
    "pltData = data[['dkm_busi_ratio', 'same_money_ratio', 'recount_fee']]\n",
    "\n",
    "\n",
    "\n",
    "def showPlt(dfIndex):\n",
    "    s = data[dfIndex]\n",
    "\n",
    "    fig = plt.figure(figsize = (10,6))\n",
    "    ax2 = fig.add_subplot(2,1,2)  # 创建子图2\n",
    "    s.hist(bins=30,alpha = 0.5,ax = ax2)\n",
    "    s.plot(kind = 'kde', secondary_y=True,ax = ax2)\n",
    "\n",
    "    plt.grid()\n",
    "    \n",
    "    \n",
    "    \n",
    "for index, row in pltData.iteritems():\n",
    "    print(index) \n",
    "    showPlt(index)"
   ]
  },
  {
   "cell_type": "code",
   "execution_count": null,
   "metadata": {},
   "outputs": [],
   "source": [
    "print(\"dkm_busi_ratio: %f\" % pltData['dkm_busi_ratio'].skew())\n",
    "pltData[\"dkm_busi_ratio\"] = np.log(pltData[[\"dkm_busi_ratio\"]] + 1e-5) \n",
    "print(\"dkm_busi_ratio: %f\" % pltData['dkm_busi_ratio'].skew())\n",
    "\n",
    "print(\"same_money_ratio: %f\" % pltData['same_money_ratio'].skew())\n",
    "pltData['same_money_ratio'] = np.log(pltData[[\"same_money_ratio\"]] + 1e-5) \n",
    "print(\"same_money_ratio: %f\" % pltData['same_money_ratio'].skew())\n",
    "\n",
    "print(\"recount_fee: %f\" % pltData['recount_fee'].skew())\n",
    "pltData['recount_fee'] = np.log(pltData[[\"recount_fee\"]] + 1e-5) \n",
    "print(\"recount_fee: %f\" % pltData['recount_fee'].skew())\n"
   ]
  },
  {
   "cell_type": "code",
   "execution_count": null,
   "metadata": {},
   "outputs": [],
   "source": [
    "\n",
    "\n",
    "\n",
    "def showPlt(dfIndex):\n",
    "    s = pltData[dfIndex]\n",
    "\n",
    "    fig = plt.figure(figsize = (10,6))\n",
    "    ax2 = fig.add_subplot(2,1,2)  # 创建子图2\n",
    "    s.hist(bins=30,alpha = 0.5,ax = ax2)\n",
    "    s.plot(kind = 'kde', secondary_y=True,ax = ax2)\n",
    "\n",
    "    plt.grid()\n",
    "    \n",
    "    \n",
    "    \n",
    "for index, row in pltData.iteritems():\n",
    "    print(index) \n",
    "    showPlt(index)"
   ]
  },
  {
   "cell_type": "code",
   "execution_count": null,
   "metadata": {},
   "outputs": [],
   "source": [
    "\n",
    "\n",
    "\n",
    "plt.rcParams['font.sans-serif'] = ['SimHei'] #用来正常显示中文标签\n",
    "plt.rcParams['axes.unicode_minus'] = False #用来正常显示负号\n",
    "plt.figure(1, figsize=(8, 15))#可设定图像大小\n",
    "#plt.figure() #建立图像\n",
    "p = pltData.boxplot(return_type='dict') #画箱线图，直接使用DataFrame的方法.代码到这为止,就已经可以显示带有异常值的箱型图了,但为了标注出异常值的数值,还需要以下代码进行标注.\n",
    "#for i in range(0,4):\n",
    "# x = p['fliers'][0].get_xdata() # 'flies'即为异常值的标签.[0]是用来标注第1位歌手的异常值数值,同理[i]标注第i+1位歌手的异常值.\n",
    "# y = p['fliers'][0].get_ydata()\n",
    "# y.sort() #从小到大排序\n",
    "\n",
    "# for i in range(len(x)): \n",
    "#   if i>0:\n",
    "#     plt.annotate(y[i], xy = (x[i],y[i]), xytext=(x[i]+0.05 -0.8/(y[i]-y[i-1]),y[i]))\n",
    "#   else:\n",
    "#     plt.annotate(y[i], xy = (x[i],y[i]), xytext=(x[i]+0.08,y[i]))\n",
    "\n",
    "plt.show() #展示箱线图"
   ]
  },
  {
   "cell_type": "code",
   "execution_count": null,
   "metadata": {},
   "outputs": [],
   "source": []
  }
 ],
 "metadata": {
  "kernelspec": {
   "display_name": "Python 3",
   "language": "python",
   "name": "python3"
  },
  "language_info": {
   "codemirror_mode": {
    "name": "ipython",
    "version": 3
   },
   "file_extension": ".py",
   "mimetype": "text/x-python",
   "name": "python",
   "nbconvert_exporter": "python",
   "pygments_lexer": "ipython3",
   "version": "3.6.5"
  }
 },
 "nbformat": 4,
 "nbformat_minor": 2
}
